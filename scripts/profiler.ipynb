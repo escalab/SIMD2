{
 "cells": [
  {
   "cell_type": "code",
   "execution_count": 49,
   "metadata": {},
   "outputs": [],
   "source": [
    "import matplotlib.pyplot as plt\n",
    "import numpy as np\n",
    "import pandas as pd\n",
    "from matplotlib.pyplot import figure\n",
    "# from matplotlib.pyplot import rc\n",
    "import csv\n",
    "import math\n",
    "from collections import defaultdict"
   ]
  },
  {
   "cell_type": "code",
   "execution_count": 84,
   "metadata": {},
   "outputs": [],
   "source": [
    "def parse_ncu_csv(fname):\n",
    "    df = pd.read_csv(fname)\n",
    "    df.columns = [c.replace(' ', '_') for c in df.columns]\n",
    "    df1 = df[ (df.Metric_Name == 'sm__cycles_active.avg') | (df.Metric_Name == 'sm__inst_executed.avg') | (df.Metric_Name == 'sm__inst_executed_pipe_tensor.avg') | (df.Metric_Name == 'sm__pipe_tensor_cycles_active.avg')\n",
    "    | (df.Metric_Name == 'Memory [%]') | (df.Metric_Name == 'SM [%]') | (df.Metric_Name == 'SM Active Cycles')]\n",
    "\n",
    "    df1 = df1[['ID', 'Kernel_Name','Metric_Name', 'Metric_Value']]\n",
    "    df1.head(50)\n",
    "\n",
    "    profile_res = defaultdict(lambda: defaultdict(int))\n",
    "    for index, row in df1.iterrows():\n",
    "        profile_res[row['Kernel_Name']][row['Metric_Name']] += float(row['Metric_Value'].replace(',', ''))\n",
    "        if row['Metric_Name'] == 'Memory [%]':\n",
    "            profile_res[row['Kernel_Name']]['count'] += 1\n",
    "        elif row['Metric_Name'] != 'SM [%]' :\n",
    "            profile_res['Total'][row['Metric_Name']] += float(row['Metric_Value'].replace(',', ''))\n",
    "    for c in profile_res: \n",
    "        if c != 'Total':\n",
    "            profile_res[c]['SM [%]'] /= profile_res[c]['count']\n",
    "            profile_res[c]['Memory [%]'] /= profile_res[c]['count']\n",
    "\n",
    "    # for c in profile_res: \n",
    "    #     print(c,profile_res[c],'\\n')\n",
    "    return profile_res"
   ]
  },
  {
   "cell_type": "code",
   "execution_count": 98,
   "metadata": {},
   "outputs": [],
   "source": [
    "def process_result(app_name, output_csv):\n",
    "    prof_res = parse_ncu_csv(app_name + '.csv')\n",
    "    comma_sep = ',,,,,,,\\n'\n",
    "    output_csv.write(app_name+comma_sep)\n",
    "    def write_res(output_csv,c):\n",
    "        output_csv.write(c.replace(',',';')+','+\n",
    "                            str(prof_res[c]['Memory [%]'])+','+\n",
    "                            str(prof_res[c]['SM [%]'])+','+\n",
    "                            str(prof_res[c]['SM Active Cycles'])+','+\n",
    "                            str(prof_res[c]['sm__cycles_active.avg'])+','+\n",
    "                            str(prof_res[c]['sm__inst_executed.avg'])+','+\n",
    "                            str(prof_res[c]['sm__pipe_tensor_cycles_active.avg'])+','+\n",
    "                            str(prof_res[c]['sm__inst_executed_pipe_tensor.avg'])+',\\n'\n",
    "                            )\n",
    "    for c in prof_res:\n",
    "        if c != 'Total':\n",
    "            write_res(output_csv,c)\n",
    "    write_res(output_csv,'Total')\n"
   ]
  },
  {
   "cell_type": "code",
   "execution_count": 107,
   "metadata": {},
   "outputs": [],
   "source": [
    "output_csv = open('profile_result.csv','w')\n",
    "# write header\n",
    "output_csv.write('Kernel_Name,Memory [%],SM [%],SM Active Cycles,SM CYCLE COUNT,SM INSTR COUNT,SM TENSOR CYCLE COUNT,SM TENSOR INSTR COUNT,\\n')\n",
    "\n",
    "tgt_app = ['profile_result_apsp_baseline',\n",
    "'profile_result_apsp',\n",
    "'profile_result_aplp_baseline',\n",
    "'profile_result_aplp',\n",
    "'profile_result_mcp_baseline',  \n",
    "'profile_result_mcp',\n",
    "'profile_result_maxrp_baseline',\n",
    "'profile_result_maxrp',\n",
    "'profile_result_minrp_baseline',\n",
    "'profile_result_minrp',                                   \n",
    "'profile_result_mst_baseline',\n",
    "'profile_result_mst',\n",
    "'profile_result_gtc_baseline',\n",
    "'profile_result_gtc',\n",
    "'profile_result_pld_baseline',\n",
    "'profile_result_pld']\n",
    "\n",
    "tgt_app = ['profile_result_microbench']\n",
    "output_csv = open('profile_result_mb.csv','w')\n",
    "\n",
    "for t in tgt_app:\n",
    "    process_result(t,output_csv)\n",
    "  \n",
    "\n",
    "output_csv.close()"
   ]
  },
  {
   "cell_type": "code",
   "execution_count": 105,
   "metadata": {},
   "outputs": [
    {
     "data": {
      "text/plain": [
       "array(['sm__cycles_active.avg', 'sm__inst_executed.avg',\n",
       "       'sm__inst_executed_pipe_tensor.avg',\n",
       "       'sm__pipe_tensor_cycles_active.avg', 'DRAM Frequency',\n",
       "       'SM Frequency', 'Elapsed Cycles', 'Memory [%]', 'SOL DRAM',\n",
       "       'Duration', 'SOL L1/TEX Cache', 'SOL L2 Cache', 'SM Active Cycles',\n",
       "       'SM [%]', nan], dtype=object)"
      ]
     },
     "execution_count": 105,
     "metadata": {},
     "output_type": "execute_result"
    }
   ],
   "source": [
    "pd.unique(df['Metric_Name'])"
   ]
  },
  {
   "cell_type": "code",
   "execution_count": null,
   "metadata": {},
   "outputs": [],
   "source": []
  }
 ],
 "metadata": {
  "interpreter": {
   "hash": "cda95c1b55a15c77942642be3304b70ef595320cd61c83e7f1bc8fba7afbff17"
  },
  "kernelspec": {
   "display_name": "Python 3.8.5 ('base': conda)",
   "language": "python",
   "name": "python3"
  },
  "language_info": {
   "codemirror_mode": {
    "name": "ipython",
    "version": 3
   },
   "file_extension": ".py",
   "mimetype": "text/x-python",
   "name": "python",
   "nbconvert_exporter": "python",
   "pygments_lexer": "ipython3",
   "version": "3.8.5"
  },
  "orig_nbformat": 4
 },
 "nbformat": 4,
 "nbformat_minor": 2
}
